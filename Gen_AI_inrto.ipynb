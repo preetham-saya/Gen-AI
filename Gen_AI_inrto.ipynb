{
  "nbformat": 4,
  "nbformat_minor": 0,
  "metadata": {
    "colab": {
      "provenance": []
    },
    "kernelspec": {
      "name": "python3",
      "display_name": "Python 3"
    },
    "language_info": {
      "name": "python"
    }
  },
  "cells": [
    {
      "cell_type": "code",
      "execution_count": null,
      "metadata": {
        "id": "EueQvlS_run_",
        "colab": {
          "base_uri": "https://localhost:8080/"
        },
        "outputId": "95e0c9e6-4ad3-4634-c3d4-8d15cdfabb7c"
      },
      "outputs": [
        {
          "output_type": "stream",
          "name": "stdout",
          "text": [
            "4\n",
            "2.0\n"
          ]
        }
      ],
      "source": [
        "import math\n",
        "n=float(input())\n",
        "num = float(n)\n",
        "sqr=math.sqrt(num)\n",
        "print(sqr)"
      ]
    },
    {
      "cell_type": "code",
      "source": [
        "A=input()\n",
        "B=input()\n",
        "temp=A\n",
        "A=B\n",
        "B=temp\n",
        "print(A,B)"
      ],
      "metadata": {
        "id": "zQT1Nt65svBM",
        "colab": {
          "base_uri": "https://localhost:8080/"
        },
        "outputId": "eb07c22c-f6e4-4829-9bfa-2fbc75719569"
      },
      "execution_count": null,
      "outputs": [
        {
          "output_type": "stream",
          "name": "stdout",
          "text": [
            "2\n",
            "3\n",
            "3 2\n"
          ]
        }
      ]
    },
    {
      "cell_type": "code",
      "source": [
        "a=int(input())\n",
        "if a==0:\n",
        "    print(\"number is Zero\")\n",
        "elif a>0:\n",
        "    print(\"Number is positve\")\n",
        "else:\n",
        "    print(\"Number is negative\")"
      ],
      "metadata": {
        "colab": {
          "base_uri": "https://localhost:8080/"
        },
        "id": "iZp27NFyvh6h",
        "outputId": "422b99bf-ef3c-4293-e8ef-f412b4eaad7a"
      },
      "execution_count": null,
      "outputs": [
        {
          "output_type": "stream",
          "name": "stdout",
          "text": [
            "0\n",
            "number is Zero\n"
          ]
        }
      ]
    },
    {
      "cell_type": "code",
      "source": [
        "a=int(input())\n",
        "if a%2==0:\n",
        "    print(\"Number is even\")\n",
        "else:\n",
        "    print(\"Number is odd\")"
      ],
      "metadata": {
        "colab": {
          "base_uri": "https://localhost:8080/"
        },
        "id": "jh5VWKCPuMag",
        "outputId": "9165bc1e-a154-4c7c-fadc-c68766631fc4"
      },
      "execution_count": 17,
      "outputs": [
        {
          "output_type": "stream",
          "name": "stdout",
          "text": [
            "6\n",
            "Number is even\n"
          ]
        }
      ]
    },
    {
      "cell_type": "code",
      "source": [
        "import pandas as pd\n",
        "data={'name':['Alice','bob','charlie'],\n",
        "      'Age':[25,10,22],\n",
        "      'city':['New York','San Francisco','Los Angeles']}\n",
        "df=pd.DataFrame(data)\n",
        "print(df)"
      ],
      "metadata": {
        "id": "ABi6qs6uwhoy",
        "colab": {
          "base_uri": "https://localhost:8080/"
        },
        "outputId": "eb5e4724-a764-472a-e5e9-a48dca8e9320"
      },
      "execution_count": 18,
      "outputs": [
        {
          "output_type": "stream",
          "name": "stdout",
          "text": [
            "      name  Age           city\n",
            "0    Alice   25       New York\n",
            "1      bob   10  San Francisco\n",
            "2  charlie   22    Los Angeles\n"
          ]
        }
      ]
    },
    {
      "cell_type": "code",
      "source": [],
      "metadata": {
        "id": "s0RvAwRJ17Q_"
      },
      "execution_count": null,
      "outputs": []
    }
  ]
}