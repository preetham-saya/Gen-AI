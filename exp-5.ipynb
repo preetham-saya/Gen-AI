{
  "nbformat": 4,
  "nbformat_minor": 0,
  "metadata": {
    "colab": {
      "provenance": [],
      "gpuType": "T4",
      "authorship_tag": "ABX9TyPrUCHS1fzXJmYUBVr5Kmtk",
      "include_colab_link": true
    },
    "kernelspec": {
      "name": "python3",
      "display_name": "Python 3"
    },
    "language_info": {
      "name": "python"
    },
    "accelerator": "GPU"
  },
  "cells": [
    {
      "cell_type": "markdown",
      "metadata": {
        "id": "view-in-github",
        "colab_type": "text"
      },
      "source": [
        "<a href=\"https://colab.research.google.com/github/dp-08/Gen-AI/blob/main/Human_face_generator_(VAE).ipynb\" target=\"_parent\"><img src=\"https://colab.research.google.com/assets/colab-badge.svg\" alt=\"Open In Colab\"/></a>"
      ]
    },
    {
      "cell_type": "code",
      "execution_count": null,
      "metadata": {
        "id": "6S7TQMCtP9mi"
      },
      "outputs": [],
      "source": [
        "!pip install tensorflow keras diffusers transformers accelerate"
      ]
    },
    {
      "cell_type": "code",
      "source": [
        "import tensorflow as tf\n",
        "from PIL import Image\n",
        "from diffusers import StableDiffusionPipeline\n",
        "import io\n",
        "import os\n",
        "\n",
        "# Set up the device for computation (GPU is highly recommended)\n",
        "# You might need to set up the environment for GPU usage first.\n",
        "\n",
        "# --- Configuration ---\n",
        "MODEL_ID = \"runwayml/stable-diffusion-v1-5\" # A well-known model for this task\n",
        "PROMPT = \"A photorealistic portrait of an old man with a kind smile, detailed eyes, wearing a tweed jacket, soft studio lighting.\"\n",
        "FACE_PROMPT = PROMPT # The prompt specific to the face generation\n",
        "OUTPUT_FILENAME = \"generated_face.png\"\n",
        "\n",
        "# --- 1. Load the Model and Components (VAE, U-Net/Transformer, Text Encoder) ---\n",
        "try:\n",
        "    # StableDiffusionPipeline encapsulates the required components:\n",
        "    # 1. Text Encoder (Transformer): Encodes the prompt into a latent representation.\n",
        "    # 2. VAE (Variational Autoencoder): Encodes/Decodes images to/from a latent space.\n",
        "    # 3. U-Net (Transformer-based): The core diffusion model that denoises the image latent.\n",
        "\n",
        "    print(f\"Loading Stable Diffusion pipeline: {MODEL_ID}...\")\n",
        "    pipeline = StableDiffusionPipeline.from_pretrained(MODEL_ID, use_safetensors=True)\n",
        "\n",
        "    # Optional: Move the pipeline to GPU if available and configured\n",
        "    # if tf.config.list_physical_devices('GPU'):\n",
        "    #     print(\"Moving pipeline to GPU.\")\n",
        "    #     # Note: Diffusers often manages this automatically, or you might use .to(\"cuda\")\n",
        "    #     # depending on whether you're using PyTorch or TensorFlow backend.\n",
        "    #     # For this example, let's assume the default configuration works.\n",
        "\n",
        "    print(\"Model components loaded successfully.\")\n",
        "\n",
        "    # --- 2. Generate the Image ---\n",
        "    print(f\"Generating image with prompt: '{FACE_PROMPT}'\")\n",
        "\n",
        "    # The 'pipeline' handles the full VAE-Transformer flow:\n",
        "    # a. Text is encoded by the Text Encoder (Transformer).\n",
        "    # b. The U-Net (Transformer) takes the text embedding and a noisy VAE latent code,\n",
        "    #    and repeatedly denoises it (the 'diffusion' process).\n",
        "    # c. The final latent code is passed to the VAE's decoder to create the full image.\n",
        "\n",
        "    # Note: 'num_inference_steps' controls the quality and speed. ~25-50 is standard.\n",
        "    image = pipeline(\n",
        "        prompt=FACE_PROMPT,\n",
        "        height=512,\n",
        "        width=512,\n",
        "        num_inference_steps=30,\n",
        "        guidance_scale=7.5 # How much the prompt should influence the image\n",
        "    ).images[0]\n",
        "\n",
        "    # --- 3. Save the Result ---\n",
        "    print(f\"Image generation complete. Saving to {OUTPUT_FILENAME}\")\n",
        "    image.save(OUTPUT_FILENAME)\n",
        "    print(f\"Successfully saved the generated face image.\")\n",
        "\n",
        "    # Optional: Display the image (if running in an environment like Jupyter)\n",
        "    # image.show()\n",
        "\n",
        "except Exception as e:\n",
        "    print(f\"\\nAn error occurred during execution:\")\n",
        "    print(f\"Please ensure you have sufficient VRAM (typically 8GB+) and that the libraries are installed.\")\n",
        "    print(f\"Error details: {e}\")"
      ],
      "metadata": {
        "id": "V6lm6fvDQT7c"
      },
      "execution_count": null,
      "outputs": []
    }
  ]
}
